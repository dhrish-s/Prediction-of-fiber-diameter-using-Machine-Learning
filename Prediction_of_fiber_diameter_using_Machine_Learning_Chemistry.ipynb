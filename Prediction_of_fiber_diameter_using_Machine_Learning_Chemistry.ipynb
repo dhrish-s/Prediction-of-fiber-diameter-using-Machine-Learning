{
  "nbformat": 4,
  "nbformat_minor": 0,
  "metadata": {
    "colab": {
      "provenance": []
    },
    "kernelspec": {
      "name": "python3",
      "display_name": "Python 3"
    },
    "language_info": {
      "name": "python"
    }
  },
  "cells": [
    {
      "cell_type": "code",
      "execution_count": 74,
      "metadata": {
        "id": "id9kNXn6xwJN"
      },
      "outputs": [],
      "source": [
        "import pandas as pd\n",
        "import numpy as np\n",
        "from sklearn.linear_model import LinearRegression\n",
        "from sklearn.model_selection import train_test_split\n",
        "from sklearn.metrics import mean_squared_error, r2_score\n",
        "from sklearn.ensemble import RandomForestRegressor\n",
        "import xgboost as xgb\n",
        "from sklearn.ensemble import GradientBoostingRegressor\n",
        "from catboost import CatBoostRegressor"
      ]
    },
    {
      "cell_type": "code",
      "source": [
        "dataset = pd.read_excel('fiberset.xlsx')\n",
        "dataset=dataset.replace('-',0)"
      ],
      "metadata": {
        "id": "m6LLs8CNxyqz"
      },
      "execution_count": 35,
      "outputs": []
    },
    {
      "cell_type": "code",
      "source": [],
      "metadata": {
        "id": "YxZGE0aNyy1g"
      },
      "execution_count": 35,
      "outputs": []
    },
    {
      "cell_type": "code",
      "source": [
        "x = dataset.iloc[:,5:-1]\n",
        "y = dataset.iloc[:,-1]\n"
      ],
      "metadata": {
        "id": "tgS-KouG7WB0"
      },
      "execution_count": 36,
      "outputs": []
    },
    {
      "cell_type": "code",
      "source": [
        "x"
      ],
      "metadata": {
        "colab": {
          "base_uri": "https://localhost:8080/",
          "height": 423
        },
        "id": "suRfd_IM7pzF",
        "outputId": "4224bdc3-8936-4ebd-a124-b3fb19ecd615"
      },
      "execution_count": 37,
      "outputs": [
        {
          "output_type": "execute_result",
          "data": {
            "text/plain": [
              "     Polymer Concentration (wt%)      RED   Voltage (kV)  Distance (cm)  \\\n",
              "0                           22.0  0.075116          12.0           15.0   \n",
              "1                           24.0  0.075116          12.0           15.0   \n",
              "2                           26.0  0.075116          12.0           15.0   \n",
              "3                           28.0  0.075116          12.0           15.0   \n",
              "4                           28.0  0.075116          12.0           16.0   \n",
              "..                           ...       ...           ...            ...   \n",
              "287                         18.0  0.218700          11.3           10.0   \n",
              "288                         18.0  0.218700          11.8           10.0   \n",
              "289                         18.0  0.218700          12.3           10.0   \n",
              "290                         18.0  0.218700          12.8           10.0   \n",
              "291                         18.0  0.218700          13.5           10.0   \n",
              "\n",
              "     Feed (mL/h)  Flory-Huggins χ parameter  \n",
              "0            0.0                   0.004855  \n",
              "1            0.0                   0.004855  \n",
              "2            0.0                   0.004855  \n",
              "3            0.0                   0.004855  \n",
              "4            0.0                   0.004855  \n",
              "..           ...                        ...  \n",
              "287          1.0                   0.033900  \n",
              "288          1.0                   0.033900  \n",
              "289          1.0                   0.033900  \n",
              "290          1.0                   0.033900  \n",
              "291          1.0                   0.033900  \n",
              "\n",
              "[292 rows x 6 columns]"
            ],
            "text/html": [
              "\n",
              "  <div id=\"df-aa6fa4ca-45a9-46ff-b459-db6f6e88d118\">\n",
              "    <div class=\"colab-df-container\">\n",
              "      <div>\n",
              "<style scoped>\n",
              "    .dataframe tbody tr th:only-of-type {\n",
              "        vertical-align: middle;\n",
              "    }\n",
              "\n",
              "    .dataframe tbody tr th {\n",
              "        vertical-align: top;\n",
              "    }\n",
              "\n",
              "    .dataframe thead th {\n",
              "        text-align: right;\n",
              "    }\n",
              "</style>\n",
              "<table border=\"1\" class=\"dataframe\">\n",
              "  <thead>\n",
              "    <tr style=\"text-align: right;\">\n",
              "      <th></th>\n",
              "      <th>Polymer Concentration (wt%)</th>\n",
              "      <th>RED</th>\n",
              "      <th>Voltage (kV)</th>\n",
              "      <th>Distance (cm)</th>\n",
              "      <th>Feed (mL/h)</th>\n",
              "      <th>Flory-Huggins χ parameter</th>\n",
              "    </tr>\n",
              "  </thead>\n",
              "  <tbody>\n",
              "    <tr>\n",
              "      <th>0</th>\n",
              "      <td>22.0</td>\n",
              "      <td>0.075116</td>\n",
              "      <td>12.0</td>\n",
              "      <td>15.0</td>\n",
              "      <td>0.0</td>\n",
              "      <td>0.004855</td>\n",
              "    </tr>\n",
              "    <tr>\n",
              "      <th>1</th>\n",
              "      <td>24.0</td>\n",
              "      <td>0.075116</td>\n",
              "      <td>12.0</td>\n",
              "      <td>15.0</td>\n",
              "      <td>0.0</td>\n",
              "      <td>0.004855</td>\n",
              "    </tr>\n",
              "    <tr>\n",
              "      <th>2</th>\n",
              "      <td>26.0</td>\n",
              "      <td>0.075116</td>\n",
              "      <td>12.0</td>\n",
              "      <td>15.0</td>\n",
              "      <td>0.0</td>\n",
              "      <td>0.004855</td>\n",
              "    </tr>\n",
              "    <tr>\n",
              "      <th>3</th>\n",
              "      <td>28.0</td>\n",
              "      <td>0.075116</td>\n",
              "      <td>12.0</td>\n",
              "      <td>15.0</td>\n",
              "      <td>0.0</td>\n",
              "      <td>0.004855</td>\n",
              "    </tr>\n",
              "    <tr>\n",
              "      <th>4</th>\n",
              "      <td>28.0</td>\n",
              "      <td>0.075116</td>\n",
              "      <td>12.0</td>\n",
              "      <td>16.0</td>\n",
              "      <td>0.0</td>\n",
              "      <td>0.004855</td>\n",
              "    </tr>\n",
              "    <tr>\n",
              "      <th>...</th>\n",
              "      <td>...</td>\n",
              "      <td>...</td>\n",
              "      <td>...</td>\n",
              "      <td>...</td>\n",
              "      <td>...</td>\n",
              "      <td>...</td>\n",
              "    </tr>\n",
              "    <tr>\n",
              "      <th>287</th>\n",
              "      <td>18.0</td>\n",
              "      <td>0.218700</td>\n",
              "      <td>11.3</td>\n",
              "      <td>10.0</td>\n",
              "      <td>1.0</td>\n",
              "      <td>0.033900</td>\n",
              "    </tr>\n",
              "    <tr>\n",
              "      <th>288</th>\n",
              "      <td>18.0</td>\n",
              "      <td>0.218700</td>\n",
              "      <td>11.8</td>\n",
              "      <td>10.0</td>\n",
              "      <td>1.0</td>\n",
              "      <td>0.033900</td>\n",
              "    </tr>\n",
              "    <tr>\n",
              "      <th>289</th>\n",
              "      <td>18.0</td>\n",
              "      <td>0.218700</td>\n",
              "      <td>12.3</td>\n",
              "      <td>10.0</td>\n",
              "      <td>1.0</td>\n",
              "      <td>0.033900</td>\n",
              "    </tr>\n",
              "    <tr>\n",
              "      <th>290</th>\n",
              "      <td>18.0</td>\n",
              "      <td>0.218700</td>\n",
              "      <td>12.8</td>\n",
              "      <td>10.0</td>\n",
              "      <td>1.0</td>\n",
              "      <td>0.033900</td>\n",
              "    </tr>\n",
              "    <tr>\n",
              "      <th>291</th>\n",
              "      <td>18.0</td>\n",
              "      <td>0.218700</td>\n",
              "      <td>13.5</td>\n",
              "      <td>10.0</td>\n",
              "      <td>1.0</td>\n",
              "      <td>0.033900</td>\n",
              "    </tr>\n",
              "  </tbody>\n",
              "</table>\n",
              "<p>292 rows × 6 columns</p>\n",
              "</div>\n",
              "      <button class=\"colab-df-convert\" onclick=\"convertToInteractive('df-aa6fa4ca-45a9-46ff-b459-db6f6e88d118')\"\n",
              "              title=\"Convert this dataframe to an interactive table.\"\n",
              "              style=\"display:none;\">\n",
              "        \n",
              "  <svg xmlns=\"http://www.w3.org/2000/svg\" height=\"24px\"viewBox=\"0 0 24 24\"\n",
              "       width=\"24px\">\n",
              "    <path d=\"M0 0h24v24H0V0z\" fill=\"none\"/>\n",
              "    <path d=\"M18.56 5.44l.94 2.06.94-2.06 2.06-.94-2.06-.94-.94-2.06-.94 2.06-2.06.94zm-11 1L8.5 8.5l.94-2.06 2.06-.94-2.06-.94L8.5 2.5l-.94 2.06-2.06.94zm10 10l.94 2.06.94-2.06 2.06-.94-2.06-.94-.94-2.06-.94 2.06-2.06.94z\"/><path d=\"M17.41 7.96l-1.37-1.37c-.4-.4-.92-.59-1.43-.59-.52 0-1.04.2-1.43.59L10.3 9.45l-7.72 7.72c-.78.78-.78 2.05 0 2.83L4 21.41c.39.39.9.59 1.41.59.51 0 1.02-.2 1.41-.59l7.78-7.78 2.81-2.81c.8-.78.8-2.07 0-2.86zM5.41 20L4 18.59l7.72-7.72 1.47 1.35L5.41 20z\"/>\n",
              "  </svg>\n",
              "      </button>\n",
              "      \n",
              "  <style>\n",
              "    .colab-df-container {\n",
              "      display:flex;\n",
              "      flex-wrap:wrap;\n",
              "      gap: 12px;\n",
              "    }\n",
              "\n",
              "    .colab-df-convert {\n",
              "      background-color: #E8F0FE;\n",
              "      border: none;\n",
              "      border-radius: 50%;\n",
              "      cursor: pointer;\n",
              "      display: none;\n",
              "      fill: #1967D2;\n",
              "      height: 32px;\n",
              "      padding: 0 0 0 0;\n",
              "      width: 32px;\n",
              "    }\n",
              "\n",
              "    .colab-df-convert:hover {\n",
              "      background-color: #E2EBFA;\n",
              "      box-shadow: 0px 1px 2px rgba(60, 64, 67, 0.3), 0px 1px 3px 1px rgba(60, 64, 67, 0.15);\n",
              "      fill: #174EA6;\n",
              "    }\n",
              "\n",
              "    [theme=dark] .colab-df-convert {\n",
              "      background-color: #3B4455;\n",
              "      fill: #D2E3FC;\n",
              "    }\n",
              "\n",
              "    [theme=dark] .colab-df-convert:hover {\n",
              "      background-color: #434B5C;\n",
              "      box-shadow: 0px 1px 3px 1px rgba(0, 0, 0, 0.15);\n",
              "      filter: drop-shadow(0px 1px 2px rgba(0, 0, 0, 0.3));\n",
              "      fill: #FFFFFF;\n",
              "    }\n",
              "  </style>\n",
              "\n",
              "      <script>\n",
              "        const buttonEl =\n",
              "          document.querySelector('#df-aa6fa4ca-45a9-46ff-b459-db6f6e88d118 button.colab-df-convert');\n",
              "        buttonEl.style.display =\n",
              "          google.colab.kernel.accessAllowed ? 'block' : 'none';\n",
              "\n",
              "        async function convertToInteractive(key) {\n",
              "          const element = document.querySelector('#df-aa6fa4ca-45a9-46ff-b459-db6f6e88d118');\n",
              "          const dataTable =\n",
              "            await google.colab.kernel.invokeFunction('convertToInteractive',\n",
              "                                                     [key], {});\n",
              "          if (!dataTable) return;\n",
              "\n",
              "          const docLinkHtml = 'Like what you see? Visit the ' +\n",
              "            '<a target=\"_blank\" href=https://colab.research.google.com/notebooks/data_table.ipynb>data table notebook</a>'\n",
              "            + ' to learn more about interactive tables.';\n",
              "          element.innerHTML = '';\n",
              "          dataTable['output_type'] = 'display_data';\n",
              "          await google.colab.output.renderOutput(dataTable, element);\n",
              "          const docLink = document.createElement('div');\n",
              "          docLink.innerHTML = docLinkHtml;\n",
              "          element.appendChild(docLink);\n",
              "        }\n",
              "      </script>\n",
              "    </div>\n",
              "  </div>\n",
              "  "
            ]
          },
          "metadata": {},
          "execution_count": 37
        }
      ]
    },
    {
      "cell_type": "code",
      "source": [
        "y"
      ],
      "metadata": {
        "colab": {
          "base_uri": "https://localhost:8080/"
        },
        "id": "oJL7xtkhzKGK",
        "outputId": "5d19f72f-d65c-426c-f7aa-fc59c3cb4075"
      },
      "execution_count": 38,
      "outputs": [
        {
          "output_type": "execute_result",
          "data": {
            "text/plain": [
              "0       98.0\n",
              "1      155.0\n",
              "2      240.0\n",
              "3      397.0\n",
              "4      314.0\n",
              "       ...  \n",
              "287    203.1\n",
              "288    148.2\n",
              "289    203.0\n",
              "290    194.2\n",
              "291    153.0\n",
              "Name: Fiber Diameter (nm), Length: 292, dtype: float64"
            ]
          },
          "metadata": {},
          "execution_count": 38
        }
      ]
    },
    {
      "cell_type": "code",
      "source": [
        "x.info()"
      ],
      "metadata": {
        "colab": {
          "base_uri": "https://localhost:8080/"
        },
        "id": "MbsuKfD_7rBp",
        "outputId": "d75928ad-c773-4015-9800-a2bba5b1d23f"
      },
      "execution_count": 39,
      "outputs": [
        {
          "output_type": "stream",
          "name": "stdout",
          "text": [
            "<class 'pandas.core.frame.DataFrame'>\n",
            "RangeIndex: 292 entries, 0 to 291\n",
            "Data columns (total 6 columns):\n",
            " #   Column                       Non-Null Count  Dtype  \n",
            "---  ------                       --------------  -----  \n",
            " 0   Polymer Concentration (wt%)  292 non-null    float64\n",
            " 1   RED                          292 non-null    float64\n",
            " 2   Voltage (kV)                 292 non-null    float64\n",
            " 3   Distance (cm)                292 non-null    float64\n",
            " 4   Feed (mL/h)                  292 non-null    float64\n",
            " 5   Flory-Huggins χ parameter    292 non-null    float64\n",
            "dtypes: float64(6)\n",
            "memory usage: 13.8 KB\n"
          ]
        }
      ]
    },
    {
      "cell_type": "code",
      "source": [
        "X_train, X_test, y_train, y_test = train_test_split(x, y, test_size=0.2, random_state=0)\n",
        "\n",
        "# Create the Random Forest Regression model\n",
        "model = RandomForestRegressor(n_estimators=100, random_state=0)\n",
        "\n",
        "# Train the model on the training set\n",
        "model.fit(X_train, y_train)\n",
        "\n",
        "# Make predictions on the testing set\n",
        "y_pred = model.predict(X_test)\n",
        "\n",
        "# Evaluate the model's performance\n",
        "mse = mean_squared_error(y_test, y_pred)\n",
        "r2 = r2_score(y_test, y_pred)\n",
        "\n",
        "print('Mean Squared Error: %.2f' % mse)\n",
        "print('Coefficient of Determination (R^2): %.2f' % r2)"
      ],
      "metadata": {
        "colab": {
          "base_uri": "https://localhost:8080/"
        },
        "id": "ulCONP_U8Ao3",
        "outputId": "ae157aa7-ab30-466f-900f-4af55477da41"
      },
      "execution_count": 52,
      "outputs": [
        {
          "output_type": "stream",
          "name": "stdout",
          "text": [
            "Mean Squared Error: 118072.11\n",
            "Coefficient of Determination (R^2): 0.94\n"
          ]
        }
      ]
    },
    {
      "cell_type": "code",
      "source": [
        "diameter_pred = model.predict(X_test)\n",
        "\n",
        "print(diameter_pred)\n"
      ],
      "metadata": {
        "colab": {
          "base_uri": "https://localhost:8080/"
        },
        "id": "WR4-x-sR8Hej",
        "outputId": "79cc33b5-3933-4f2f-b9ee-c65a4fbb55af"
      },
      "execution_count": 61,
      "outputs": [
        {
          "output_type": "stream",
          "name": "stdout",
          "text": [
            "[ 402.936       240.32564167  677.977       613.64       1156.74397547\n",
            "  207.7215      327.58269517  118.78183333  700.792        54.47566667\n",
            "  845.08725397   84.98635678  811.56177778  733.98       7690.33\n",
            "   84.98635678  459.16483333   89.74045238  558.226       240.24714167\n",
            "  654.449       219.3712      520.602       795.72870635  121.9975\n",
            "  202.29765      44.80114033  138.47        211.95616667  133.2625\n",
            " 2082.22        209.912       807.39628571  261.55666667  884.339\n",
            "  761.44957143  121.32        693.70988333   92.375        78.09\n",
            " 1905.27788511  288.16        240.24714167 5952.79005664 1050.8047969\n",
            " 1127.23        131.185       865.65090779 1457.6195      461.81008889\n",
            "  322.8745     3042.9264881  1547.38482923  327.58269517  240.32564167\n",
            "  240.24714167  137.07        186.926       452.45198333]\n"
          ]
        }
      ]
    },
    {
      "cell_type": "code",
      "source": [
        "model1 = xgb.XGBRegressor(objective='reg:squarederror', n_estimators=100, learning_rate=0.1, max_depth=3)\n",
        "# Train the model on the training set\n",
        "model1.fit(X_train, y_train)\n",
        "\n",
        "# Make predictions on the testing set\n",
        "y_pred = model1.predict(X_test)\n",
        "mse = mean_squared_error(y_test, y_pred)\n",
        "r2 = r2_score(y_test, y_pred)\n",
        "\n",
        "print('Mean Squared Error: %.2f' % mse)\n",
        "print('Coefficient of Determination (R^2): %.2f' % r2)\n",
        "diameter_pred = model1.predict(X_test)\n",
        "\n",
        "print(diameter_pred)"
      ],
      "metadata": {
        "id": "GEJA_rnM8WhB",
        "colab": {
          "base_uri": "https://localhost:8080/"
        },
        "outputId": "be262276-cae3-4b07-96c0-08d967cd1d2e"
      },
      "execution_count": 64,
      "outputs": [
        {
          "output_type": "stream",
          "name": "stdout",
          "text": [
            "Mean Squared Error: 150892.78\n",
            "Coefficient of Determination (R^2): 0.93\n",
            "[ 478.75677   214.28549   667.3129    648.9126   1084.2203    202.92564\n",
            "  277.41876   270.89093   968.87115   154.83446   809.30676    84.70675\n",
            "  908.928     642.8577   7475.2695     84.70675   561.0811     84.70675\n",
            "  627.2326    214.28549   632.54517   214.28549   369.11383   692.5957\n",
            "  145.92514   214.28549    72.11844   131.83232   202.92564   168.53586\n",
            " 2374.6792    222.29694   703.2112    188.72136   974.4073    628.9762\n",
            "  152.15549   781.81055   290.93927    13.804547 1374.4299    188.72136\n",
            "  214.28549  5989.623     893.56445  1149.9888    339.6414    893.56445\n",
            " 1475.7767    449.43527   669.63403  2454.7922   1763.2544    277.41876\n",
            "  214.28549   214.28549   312.67154   252.37862   449.43527 ]\n"
          ]
        }
      ]
    },
    {
      "cell_type": "code",
      "source": [
        "model2 = GradientBoostingRegressor(n_estimators=100, learning_rate=0.1, max_depth=3)\n",
        "# Train the model on the training set\n",
        "model2.fit(X_train, y_train)\n",
        "\n",
        "# Make predictions on the testing set\n",
        "y_pred = model2.predict(X_test)\n",
        "mse = mean_squared_error(y_test, y_pred)\n",
        "r2 = r2_score(y_test, y_pred)\n",
        "\n",
        "print('Mean Squared Error: %.2f' % mse)\n",
        "print('Coefficient of Determination (R^2): %.2f' % r2)\n",
        "diameter_pred = model2.predict(X_test)\n",
        "\n",
        "print(diameter_pred)"
      ],
      "metadata": {
        "colab": {
          "base_uri": "https://localhost:8080/"
        },
        "id": "UHYjpuBm_B_X",
        "outputId": "2013b3db-e80e-416b-a42f-66479b6b9724"
      },
      "execution_count": 65,
      "outputs": [
        {
          "output_type": "stream",
          "name": "stdout",
          "text": [
            "Mean Squared Error: 123577.70\n",
            "Coefficient of Determination (R^2): 0.94\n",
            "[ 164.70815223  211.5856099   666.15791949  653.85012358 1126.7669041\n",
            "  211.5856099   268.82223327  268.51308908  922.7313668    72.41687936\n",
            "  720.88786355   85.59760081  912.3972369   731.3107335  7699.99313065\n",
            "   85.59760081  543.99305988   85.59760081  589.92751572  211.5856099\n",
            "  209.32015869  211.5856099   372.05679124  749.03743335  152.26254553\n",
            "  208.98581129   58.46860481  143.89146075  211.5856099   162.0908673\n",
            " 2833.31991826  172.38945604  708.10088     206.84825168  879.96213511\n",
            "  655.68194377  158.06967491  749.71698945  311.78443187    8.15479268\n",
            " 1787.27731499  214.86982476  211.5856099  6391.69686733  879.62835225\n",
            " 1175.67224059  293.04381715  897.55454981 1506.8753789   442.48042463\n",
            "  409.45322384 2324.20206675 1783.45058517  268.82223327  211.5856099\n",
            "  211.5856099   330.4130676     9.61994247  473.33777243]\n"
          ]
        }
      ]
    },
    {
      "cell_type": "code",
      "source": [
        "model3 = CatBoostRegressor(iterations=100, learning_rate=0.1, depth=3)\n",
        "# Train the model on the training set\n",
        "model3.fit(X_train, y_train)\n",
        "\n",
        "# Make predictions on the testing set\n",
        "y_pred = model3.predict(X_test)\n",
        "mse = mean_squared_error(y_test, y_pred)\n",
        "r2 = r2_score(y_test, y_pred)\n",
        "\n",
        "print('Mean Squared Error: %.2f' % mse)\n",
        "print('Coefficient of Determination (R^2): %.2f' % r2)\n",
        "diameter_pred = model3.predict(X_test)\n",
        "\n",
        "print(diameter_pred)\n"
      ],
      "metadata": {
        "colab": {
          "base_uri": "https://localhost:8080/"
        },
        "id": "HGk2WgOK_gqc",
        "outputId": "e93a3351-b191-4a4f-a58f-09e3c26bb904"
      },
      "execution_count": 75,
      "outputs": [
        {
          "output_type": "stream",
          "name": "stdout",
          "text": [
            "0:\tlearn: 1257.8140313\ttotal: 46.3ms\tremaining: 4.58s\n",
            "1:\tlearn: 1196.5906456\ttotal: 46.5ms\tremaining: 2.28s\n",
            "2:\tlearn: 1131.9065247\ttotal: 46.8ms\tremaining: 1.51s\n",
            "3:\tlearn: 1079.6632448\ttotal: 47ms\tremaining: 1.13s\n",
            "4:\tlearn: 1024.9147508\ttotal: 47.2ms\tremaining: 896ms\n",
            "5:\tlearn: 981.1534597\ttotal: 47.4ms\tremaining: 742ms\n",
            "6:\tlearn: 937.6834877\ttotal: 47.8ms\tremaining: 635ms\n",
            "7:\tlearn: 901.7765263\ttotal: 48.2ms\tremaining: 554ms\n",
            "8:\tlearn: 860.8579236\ttotal: 48.5ms\tremaining: 490ms\n",
            "9:\tlearn: 822.3243311\ttotal: 48.8ms\tremaining: 439ms\n",
            "10:\tlearn: 787.7681889\ttotal: 49.2ms\tremaining: 398ms\n",
            "11:\tlearn: 767.4377138\ttotal: 49.6ms\tremaining: 363ms\n",
            "12:\tlearn: 740.4033324\ttotal: 50ms\tremaining: 335ms\n",
            "13:\tlearn: 713.5797531\ttotal: 50.3ms\tremaining: 309ms\n",
            "14:\tlearn: 691.6327285\ttotal: 50.7ms\tremaining: 287ms\n",
            "15:\tlearn: 668.8351611\ttotal: 51ms\tremaining: 268ms\n",
            "16:\tlearn: 652.9489829\ttotal: 51.5ms\tremaining: 251ms\n",
            "17:\tlearn: 638.8858879\ttotal: 51.8ms\tremaining: 236ms\n",
            "18:\tlearn: 627.9852834\ttotal: 52.2ms\tremaining: 222ms\n",
            "19:\tlearn: 611.4779923\ttotal: 52.4ms\tremaining: 210ms\n",
            "20:\tlearn: 595.5183137\ttotal: 52.8ms\tremaining: 199ms\n",
            "21:\tlearn: 578.0278890\ttotal: 53.3ms\tremaining: 189ms\n",
            "22:\tlearn: 564.5804221\ttotal: 53.6ms\tremaining: 179ms\n",
            "23:\tlearn: 553.6715898\ttotal: 54ms\tremaining: 171ms\n",
            "24:\tlearn: 545.9613833\ttotal: 54.3ms\tremaining: 163ms\n",
            "25:\tlearn: 534.3235751\ttotal: 54.7ms\tremaining: 156ms\n",
            "26:\tlearn: 525.3251375\ttotal: 54.9ms\tremaining: 149ms\n",
            "27:\tlearn: 515.7743776\ttotal: 55.3ms\tremaining: 142ms\n",
            "28:\tlearn: 511.2441545\ttotal: 55.8ms\tremaining: 137ms\n",
            "29:\tlearn: 505.2807572\ttotal: 56ms\tremaining: 131ms\n",
            "30:\tlearn: 500.7012254\ttotal: 56.4ms\tremaining: 126ms\n",
            "31:\tlearn: 495.9751219\ttotal: 56.7ms\tremaining: 121ms\n",
            "32:\tlearn: 490.6304680\ttotal: 57.1ms\tremaining: 116ms\n",
            "33:\tlearn: 485.6551009\ttotal: 57.6ms\tremaining: 112ms\n",
            "34:\tlearn: 482.8826637\ttotal: 57.9ms\tremaining: 107ms\n",
            "35:\tlearn: 478.7497140\ttotal: 58.3ms\tremaining: 104ms\n",
            "36:\tlearn: 476.3570839\ttotal: 58.5ms\tremaining: 99.7ms\n",
            "37:\tlearn: 474.8061842\ttotal: 58.9ms\tremaining: 96.1ms\n",
            "38:\tlearn: 470.0080695\ttotal: 59.3ms\tremaining: 92.8ms\n",
            "39:\tlearn: 464.4155215\ttotal: 59.6ms\tremaining: 89.4ms\n",
            "40:\tlearn: 460.6028722\ttotal: 60ms\tremaining: 86.4ms\n",
            "41:\tlearn: 456.9906622\ttotal: 60.3ms\tremaining: 83.3ms\n",
            "42:\tlearn: 455.4529080\ttotal: 60.7ms\tremaining: 80.4ms\n",
            "43:\tlearn: 452.0838988\ttotal: 61.1ms\tremaining: 77.8ms\n",
            "44:\tlearn: 451.0507583\ttotal: 61.4ms\tremaining: 75.1ms\n",
            "45:\tlearn: 448.1279293\ttotal: 61.8ms\tremaining: 72.6ms\n",
            "46:\tlearn: 444.9303351\ttotal: 62.1ms\tremaining: 70ms\n",
            "47:\tlearn: 442.8937543\ttotal: 62.5ms\tremaining: 67.7ms\n",
            "48:\tlearn: 441.8375685\ttotal: 63.1ms\tremaining: 65.7ms\n",
            "49:\tlearn: 435.9214052\ttotal: 63.3ms\tremaining: 63.3ms\n",
            "50:\tlearn: 433.1872888\ttotal: 63.9ms\tremaining: 61.4ms\n",
            "51:\tlearn: 431.2495236\ttotal: 64.2ms\tremaining: 59.3ms\n",
            "52:\tlearn: 430.2733192\ttotal: 64.6ms\tremaining: 57.3ms\n",
            "53:\tlearn: 428.9942205\ttotal: 64.9ms\tremaining: 55.3ms\n",
            "54:\tlearn: 428.0677209\ttotal: 65.3ms\tremaining: 53.5ms\n",
            "55:\tlearn: 423.3942242\ttotal: 65.8ms\tremaining: 51.7ms\n",
            "56:\tlearn: 422.7944257\ttotal: 66ms\tremaining: 49.8ms\n",
            "57:\tlearn: 418.5712075\ttotal: 66.2ms\tremaining: 48ms\n",
            "58:\tlearn: 414.8411690\ttotal: 66.4ms\tremaining: 46.1ms\n",
            "59:\tlearn: 412.4158252\ttotal: 66.9ms\tremaining: 44.6ms\n",
            "60:\tlearn: 409.8308864\ttotal: 67.5ms\tremaining: 43.1ms\n",
            "61:\tlearn: 406.8380271\ttotal: 67.9ms\tremaining: 41.6ms\n",
            "62:\tlearn: 403.3762460\ttotal: 68.4ms\tremaining: 40.2ms\n",
            "63:\tlearn: 400.3974153\ttotal: 68.9ms\tremaining: 38.7ms\n",
            "64:\tlearn: 398.3866230\ttotal: 69.1ms\tremaining: 37.2ms\n",
            "65:\tlearn: 397.3182569\ttotal: 69.3ms\tremaining: 35.7ms\n",
            "66:\tlearn: 395.9514775\ttotal: 69.5ms\tremaining: 34.2ms\n",
            "67:\tlearn: 392.8481457\ttotal: 69.7ms\tremaining: 32.8ms\n",
            "68:\tlearn: 392.2533312\ttotal: 69.9ms\tremaining: 31.4ms\n",
            "69:\tlearn: 391.4246043\ttotal: 70ms\tremaining: 30ms\n",
            "70:\tlearn: 390.3510102\ttotal: 70.2ms\tremaining: 28.7ms\n",
            "71:\tlearn: 389.6415720\ttotal: 70.4ms\tremaining: 27.4ms\n",
            "72:\tlearn: 388.7309016\ttotal: 70.6ms\tremaining: 26.1ms\n",
            "73:\tlearn: 386.9501394\ttotal: 70.8ms\tremaining: 24.9ms\n",
            "74:\tlearn: 386.2971311\ttotal: 71ms\tremaining: 23.7ms\n",
            "75:\tlearn: 384.1184700\ttotal: 71.2ms\tremaining: 22.5ms\n",
            "76:\tlearn: 380.4543245\ttotal: 71.4ms\tremaining: 21.3ms\n",
            "77:\tlearn: 379.3646226\ttotal: 71.6ms\tremaining: 20.2ms\n",
            "78:\tlearn: 378.8353403\ttotal: 77.6ms\tremaining: 20.6ms\n",
            "79:\tlearn: 375.5550946\ttotal: 77.8ms\tremaining: 19.5ms\n",
            "80:\tlearn: 375.0636430\ttotal: 78ms\tremaining: 18.3ms\n",
            "81:\tlearn: 372.1083820\ttotal: 78.2ms\tremaining: 17.2ms\n",
            "82:\tlearn: 371.4196241\ttotal: 78.5ms\tremaining: 16.1ms\n",
            "83:\tlearn: 368.7620641\ttotal: 78.6ms\tremaining: 15ms\n",
            "84:\tlearn: 365.4030885\ttotal: 78.8ms\tremaining: 13.9ms\n",
            "85:\tlearn: 363.2055688\ttotal: 79ms\tremaining: 12.9ms\n",
            "86:\tlearn: 362.8090094\ttotal: 83.4ms\tremaining: 12.5ms\n",
            "87:\tlearn: 361.0693351\ttotal: 83.6ms\tremaining: 11.4ms\n",
            "88:\tlearn: 358.4292374\ttotal: 84.6ms\tremaining: 10.5ms\n",
            "89:\tlearn: 358.0396907\ttotal: 85.9ms\tremaining: 9.54ms\n",
            "90:\tlearn: 355.4790253\ttotal: 86.1ms\tremaining: 8.51ms\n",
            "91:\tlearn: 354.9475155\ttotal: 86.3ms\tremaining: 7.5ms\n",
            "92:\tlearn: 352.5259921\ttotal: 86.5ms\tremaining: 6.51ms\n",
            "93:\tlearn: 352.1831763\ttotal: 86.7ms\tremaining: 5.53ms\n",
            "94:\tlearn: 349.8653308\ttotal: 86.9ms\tremaining: 4.57ms\n",
            "95:\tlearn: 348.2211952\ttotal: 87ms\tremaining: 3.63ms\n",
            "96:\tlearn: 347.9273361\ttotal: 87.2ms\tremaining: 2.7ms\n",
            "97:\tlearn: 347.4883328\ttotal: 87.4ms\tremaining: 1.78ms\n",
            "98:\tlearn: 345.4097412\ttotal: 87.6ms\tremaining: 885us\n",
            "99:\tlearn: 342.9602740\ttotal: 87.8ms\tremaining: 0us\n",
            "Mean Squared Error: 263503.47\n",
            "Coefficient of Determination (R^2): 0.87\n",
            "[ 504.99216752  190.21287063  612.77222999  594.25566769  979.68519714\n",
            "  179.57490878  426.47192609  327.32163165  750.59107118  255.80822053\n",
            "  822.83882328   67.70091904  981.43223248  655.79375715 7266.58540705\n",
            "   67.70091904  638.00182678   67.70091904  602.55084832  177.98016057\n",
            "  474.7523166   177.98016057  467.07255906  675.87147313  233.32061753\n",
            "  180.73393437   62.93468877  239.02848535  177.98016057  252.4022856\n",
            " 1845.79851733  248.20660003  846.00435098  249.92585076  798.78059721\n",
            "  613.4408049   253.98559752  816.60902746  267.44815992  155.75748183\n",
            " 1000.02096793  252.4800504   177.98016057 5066.64473929  943.23371972\n",
            " 1003.36722727  322.3456153   925.09604445 1286.8109079   420.63613701\n",
            "  749.42500421 1956.96868758 1832.89882747  426.47192609  190.21287063\n",
            "  177.98016057  247.66077905  324.55143741  449.87994378]\n"
          ]
        }
      ]
    },
    {
      "cell_type": "code",
      "source": [],
      "metadata": {
        "id": "Tp6c0iVIDQgB"
      },
      "execution_count": null,
      "outputs": []
    }
  ]
}